{
 "cells": [
  {
   "cell_type": "markdown",
   "metadata": {},
   "source": [
    "![jupyter](./Week1-01.png)"
   ]
  },
  {
   "cell_type": "markdown",
   "metadata": {},
   "source": [
    "2.张量有三种表现形式\n",
    "标量是一维；\n",
    "向量是二维；\n",
    "矩阵是多维"
   ]
  },
  {
   "cell_type": "markdown",
   "metadata": {},
   "source": [
    "3.data，device，grad，等等"
   ]
  },
  {
   "cell_type": "code",
   "execution_count": 1,
   "metadata": {},
   "outputs": [],
   "source": [
    "import torch"
   ]
  },
  {
   "cell_type": "code",
   "execution_count": 2,
   "metadata": {},
   "outputs": [],
   "source": [
    "import numpy as np"
   ]
  },
  {
   "cell_type": "code",
   "execution_count": 5,
   "metadata": {},
   "outputs": [
    {
     "name": "stdout",
     "output_type": "stream",
     "text": [
      "arr: [[1 2 3]\n",
      " [4 5 6]] torch_arr: tensor([[1, 2, 3],\n",
      "        [4, 5, 6]], dtype=torch.int32)\n",
      "\n",
      "arr id: 1532542876928 torch id: 1532542914992\n"
     ]
    }
   ],
   "source": [
    "arr = np.array([[1,2,3],[4,5,6]])\n",
    "out = torch.from_numpy(arr)\n",
    "\n",
    "print(\"arr:\",arr,\"torch_arr:\",out)\n",
    "print(\"\\narr id:\", id(arr), \"torch id:\", id(out))"
   ]
  },
  {
   "cell_type": "markdown",
   "metadata": {},
   "source": [
    "5.一共四种形式  "
   ]
  },
  {
   "cell_type": "code",
   "execution_count": 7,
   "metadata": {},
   "outputs": [
    {
     "name": "stdout",
     "output_type": "stream",
     "text": [
      "tensor([-0.7703, -0.3832, -3.2059, -2.4602])\n"
     ]
    }
   ],
   "source": [
    "mean = torch.arange(1,5,dtype=torch.float)\n",
    "std = torch.arange(1,5, dtype=torch.float)\n",
    "arr = torch.normal(mean, std)\n",
    "print(arr)"
   ]
  },
  {
   "cell_type": "code",
   "execution_count": 8,
   "metadata": {},
   "outputs": [
    {
     "name": "stdout",
     "output_type": "stream",
     "text": [
      "tensor([2.3605, 3.4353, 4.8067, 5.9473])\n"
     ]
    }
   ],
   "source": [
    "mean = 4\n",
    "std = torch.arange(1,5, dtype=torch.float)\n",
    "arr = torch.normal(mean, std)\n",
    "print(arr)"
   ]
  },
  {
   "cell_type": "code",
   "execution_count": 9,
   "metadata": {},
   "outputs": [
    {
     "name": "stdout",
     "output_type": "stream",
     "text": [
      "tensor([  5.5815,   3.7341,   5.4345, -10.4446])\n"
     ]
    }
   ],
   "source": [
    "arr = torch.normal(1.,5., size=(4,))\n",
    "print(arr)"
   ]
  }
 ],
 "metadata": {
  "kernelspec": {
   "display_name": "Python 3",
   "language": "python",
   "name": "python3"
  },
  "language_info": {
   "codemirror_mode": {
    "name": "ipython",
    "version": 3
   },
   "file_extension": ".py",
   "mimetype": "text/x-python",
   "name": "python",
   "nbconvert_exporter": "python",
   "pygments_lexer": "ipython3",
   "version": "3.7.0"
  }
 },
 "nbformat": 4,
 "nbformat_minor": 2
}
